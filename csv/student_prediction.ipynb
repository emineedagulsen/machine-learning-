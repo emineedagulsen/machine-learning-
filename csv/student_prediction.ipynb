{
  "nbformat": 4,
  "nbformat_minor": 0,
  "metadata": {
    "colab": {
      "name": "student_prediction.ipynb",
      "provenance": [],
      "collapsed_sections": []
    },
    "kernelspec": {
      "name": "python3",
      "display_name": "Python 3"
    },
    "language_info": {
      "name": "python"
    }
  },
  "cells": [
    {
      "cell_type": "code",
      "execution_count": null,
      "metadata": {
        "id": "QV4hd4WLLaI5"
      },
      "outputs": [],
      "source": [
        "import numpy as np\n",
        "import pandas as pd\n",
        "import seaborn as sns\n",
        "from sklearn.model_selection import train_test_split\n",
        "from sklearn.preprocessing import StandardScaler\n",
        "from tensorflow.keras.models import Sequential\n",
        "from tensorflow.keras.layers import Dense\n",
        "from tensorflow.keras.optimizers import Adam\n",
        "from tensorflow.keras.models import load_model\n",
        "from sklearn.metrics import confusion_matrix, accuracy_score\n"
      ]
    },
    {
      "cell_type": "code",
      "source": [
        "!rm -r machine-learning/\n",
        "!git clone https://github.com/emineedagulsen/machine-learning"
      ],
      "metadata": {
        "colab": {
          "base_uri": "https://localhost:8080/"
        },
        "id": "uwzYvuh1aJty",
        "outputId": "46f37b3d-41ab-40c5-bf07-ce79710cc9f0"
      },
      "execution_count": null,
      "outputs": [
        {
          "output_type": "stream",
          "name": "stdout",
          "text": [
            "Cloning into 'machine-learning'...\n",
            "remote: Enumerating objects: 3, done.\u001b[K\n",
            "remote: Counting objects:  33% (1/3)\u001b[K\rremote: Counting objects:  66% (2/3)\u001b[K\rremote: Counting objects: 100% (3/3)\u001b[K\rremote: Counting objects: 100% (3/3), done.\u001b[K\n",
            "remote: Compressing objects:  33% (1/3)\u001b[K\rremote: Compressing objects:  66% (2/3)\u001b[K\rremote: Compressing objects: 100% (3/3)\u001b[K\rremote: Compressing objects: 100% (3/3), done.\u001b[K\n",
            "remote: Total 3 (delta 0), reused 0 (delta 0), pack-reused 0\u001b[K\n",
            "Unpacking objects: 100% (3/3), done.\n"
          ]
        }
      ]
    },
    {
      "cell_type": "code",
      "source": [
        "dataFrame = pd.read_csv('machine-learning/customer_staying_or_not.csv') # replace with your file"
      ],
      "metadata": {
        "id": "ZMLXN5dlaPyA"
      },
      "execution_count": null,
      "outputs": []
    },
    {
      "cell_type": "code",
      "source": [
        "dataFrame.head()"
      ],
      "metadata": {
        "colab": {
          "base_uri": "https://localhost:8080/",
          "height": 288
        },
        "id": "oGK27VPUbL5R",
        "outputId": "faeada97-01e2-443e-b529-86d6611d1557"
      },
      "execution_count": null,
      "outputs": [
        {
          "output_type": "execute_result",
          "data": {
            "text/html": [
              "\n",
              "  <div id=\"df-cb89e3bf-37e8-473d-8f43-2b49477ad6c4\">\n",
              "    <div class=\"colab-df-container\">\n",
              "      <div>\n",
              "<style scoped>\n",
              "    .dataframe tbody tr th:only-of-type {\n",
              "        vertical-align: middle;\n",
              "    }\n",
              "\n",
              "    .dataframe tbody tr th {\n",
              "        vertical-align: top;\n",
              "    }\n",
              "\n",
              "    .dataframe thead th {\n",
              "        text-align: right;\n",
              "    }\n",
              "</style>\n",
              "<table border=\"1\" class=\"dataframe\">\n",
              "  <thead>\n",
              "    <tr style=\"text-align: right;\">\n",
              "      <th></th>\n",
              "      <th>STUDENTID</th>\n",
              "      <th>AGE</th>\n",
              "      <th>GENDER</th>\n",
              "      <th>HS_TYPE</th>\n",
              "      <th>SCHOLARSHIP</th>\n",
              "      <th>WORK</th>\n",
              "      <th>ACTIVITY</th>\n",
              "      <th>PARTNER</th>\n",
              "      <th>SALARY</th>\n",
              "      <th>TRANSPORT</th>\n",
              "      <th>LIVING</th>\n",
              "      <th>MOTHER_EDU</th>\n",
              "      <th>FATHER_EDU</th>\n",
              "      <th>#_SIBLINGS</th>\n",
              "      <th>KIDS</th>\n",
              "      <th>MOTHER_JOB</th>\n",
              "      <th>FATHER_JOB</th>\n",
              "      <th>STUDY_HRS</th>\n",
              "      <th>READ_FREQ</th>\n",
              "      <th>READ_FREQ_SCI</th>\n",
              "      <th>ATTEND_DEPT</th>\n",
              "      <th>IMPACT</th>\n",
              "      <th>ATTEND</th>\n",
              "      <th>PREP_STUDY</th>\n",
              "      <th>PREP_EXAM</th>\n",
              "      <th>NOTES</th>\n",
              "      <th>LISTENS</th>\n",
              "      <th>LIKES_DISCUSS</th>\n",
              "      <th>CLASSROOM</th>\n",
              "      <th>CUML_GPA</th>\n",
              "      <th>EXP_GPA</th>\n",
              "      <th>COURSE ID</th>\n",
              "      <th>GRADE</th>\n",
              "    </tr>\n",
              "  </thead>\n",
              "  <tbody>\n",
              "    <tr>\n",
              "      <th>0</th>\n",
              "      <td>STUDENT1</td>\n",
              "      <td>2</td>\n",
              "      <td>2</td>\n",
              "      <td>3</td>\n",
              "      <td>3</td>\n",
              "      <td>1</td>\n",
              "      <td>2</td>\n",
              "      <td>2</td>\n",
              "      <td>1</td>\n",
              "      <td>1</td>\n",
              "      <td>1</td>\n",
              "      <td>1</td>\n",
              "      <td>2</td>\n",
              "      <td>3</td>\n",
              "      <td>1</td>\n",
              "      <td>2</td>\n",
              "      <td>5</td>\n",
              "      <td>3</td>\n",
              "      <td>2</td>\n",
              "      <td>2</td>\n",
              "      <td>1</td>\n",
              "      <td>1</td>\n",
              "      <td>1</td>\n",
              "      <td>1</td>\n",
              "      <td>1</td>\n",
              "      <td>3</td>\n",
              "      <td>2</td>\n",
              "      <td>1</td>\n",
              "      <td>2</td>\n",
              "      <td>1</td>\n",
              "      <td>1</td>\n",
              "      <td>1</td>\n",
              "      <td>1</td>\n",
              "    </tr>\n",
              "    <tr>\n",
              "      <th>1</th>\n",
              "      <td>STUDENT2</td>\n",
              "      <td>2</td>\n",
              "      <td>2</td>\n",
              "      <td>3</td>\n",
              "      <td>3</td>\n",
              "      <td>1</td>\n",
              "      <td>2</td>\n",
              "      <td>2</td>\n",
              "      <td>1</td>\n",
              "      <td>1</td>\n",
              "      <td>1</td>\n",
              "      <td>2</td>\n",
              "      <td>3</td>\n",
              "      <td>2</td>\n",
              "      <td>1</td>\n",
              "      <td>2</td>\n",
              "      <td>1</td>\n",
              "      <td>2</td>\n",
              "      <td>2</td>\n",
              "      <td>2</td>\n",
              "      <td>1</td>\n",
              "      <td>1</td>\n",
              "      <td>1</td>\n",
              "      <td>1</td>\n",
              "      <td>1</td>\n",
              "      <td>3</td>\n",
              "      <td>2</td>\n",
              "      <td>3</td>\n",
              "      <td>2</td>\n",
              "      <td>2</td>\n",
              "      <td>3</td>\n",
              "      <td>1</td>\n",
              "      <td>1</td>\n",
              "    </tr>\n",
              "    <tr>\n",
              "      <th>2</th>\n",
              "      <td>STUDENT3</td>\n",
              "      <td>2</td>\n",
              "      <td>2</td>\n",
              "      <td>2</td>\n",
              "      <td>3</td>\n",
              "      <td>2</td>\n",
              "      <td>2</td>\n",
              "      <td>2</td>\n",
              "      <td>2</td>\n",
              "      <td>4</td>\n",
              "      <td>2</td>\n",
              "      <td>2</td>\n",
              "      <td>2</td>\n",
              "      <td>2</td>\n",
              "      <td>1</td>\n",
              "      <td>2</td>\n",
              "      <td>1</td>\n",
              "      <td>2</td>\n",
              "      <td>1</td>\n",
              "      <td>2</td>\n",
              "      <td>1</td>\n",
              "      <td>1</td>\n",
              "      <td>1</td>\n",
              "      <td>1</td>\n",
              "      <td>1</td>\n",
              "      <td>2</td>\n",
              "      <td>2</td>\n",
              "      <td>1</td>\n",
              "      <td>1</td>\n",
              "      <td>2</td>\n",
              "      <td>2</td>\n",
              "      <td>1</td>\n",
              "      <td>1</td>\n",
              "    </tr>\n",
              "    <tr>\n",
              "      <th>3</th>\n",
              "      <td>STUDENT4</td>\n",
              "      <td>1</td>\n",
              "      <td>1</td>\n",
              "      <td>1</td>\n",
              "      <td>3</td>\n",
              "      <td>1</td>\n",
              "      <td>2</td>\n",
              "      <td>1</td>\n",
              "      <td>2</td>\n",
              "      <td>1</td>\n",
              "      <td>2</td>\n",
              "      <td>1</td>\n",
              "      <td>2</td>\n",
              "      <td>5</td>\n",
              "      <td>1</td>\n",
              "      <td>2</td>\n",
              "      <td>1</td>\n",
              "      <td>3</td>\n",
              "      <td>1</td>\n",
              "      <td>2</td>\n",
              "      <td>1</td>\n",
              "      <td>1</td>\n",
              "      <td>1</td>\n",
              "      <td>1</td>\n",
              "      <td>2</td>\n",
              "      <td>3</td>\n",
              "      <td>2</td>\n",
              "      <td>2</td>\n",
              "      <td>1</td>\n",
              "      <td>3</td>\n",
              "      <td>2</td>\n",
              "      <td>1</td>\n",
              "      <td>1</td>\n",
              "    </tr>\n",
              "    <tr>\n",
              "      <th>4</th>\n",
              "      <td>STUDENT5</td>\n",
              "      <td>2</td>\n",
              "      <td>2</td>\n",
              "      <td>1</td>\n",
              "      <td>3</td>\n",
              "      <td>2</td>\n",
              "      <td>2</td>\n",
              "      <td>1</td>\n",
              "      <td>3</td>\n",
              "      <td>1</td>\n",
              "      <td>4</td>\n",
              "      <td>3</td>\n",
              "      <td>3</td>\n",
              "      <td>2</td>\n",
              "      <td>1</td>\n",
              "      <td>2</td>\n",
              "      <td>4</td>\n",
              "      <td>2</td>\n",
              "      <td>1</td>\n",
              "      <td>1</td>\n",
              "      <td>1</td>\n",
              "      <td>1</td>\n",
              "      <td>1</td>\n",
              "      <td>2</td>\n",
              "      <td>1</td>\n",
              "      <td>2</td>\n",
              "      <td>2</td>\n",
              "      <td>2</td>\n",
              "      <td>1</td>\n",
              "      <td>2</td>\n",
              "      <td>2</td>\n",
              "      <td>1</td>\n",
              "      <td>1</td>\n",
              "    </tr>\n",
              "  </tbody>\n",
              "</table>\n",
              "</div>\n",
              "      <button class=\"colab-df-convert\" onclick=\"convertToInteractive('df-cb89e3bf-37e8-473d-8f43-2b49477ad6c4')\"\n",
              "              title=\"Convert this dataframe to an interactive table.\"\n",
              "              style=\"display:none;\">\n",
              "        \n",
              "  <svg xmlns=\"http://www.w3.org/2000/svg\" height=\"24px\"viewBox=\"0 0 24 24\"\n",
              "       width=\"24px\">\n",
              "    <path d=\"M0 0h24v24H0V0z\" fill=\"none\"/>\n",
              "    <path d=\"M18.56 5.44l.94 2.06.94-2.06 2.06-.94-2.06-.94-.94-2.06-.94 2.06-2.06.94zm-11 1L8.5 8.5l.94-2.06 2.06-.94-2.06-.94L8.5 2.5l-.94 2.06-2.06.94zm10 10l.94 2.06.94-2.06 2.06-.94-2.06-.94-.94-2.06-.94 2.06-2.06.94z\"/><path d=\"M17.41 7.96l-1.37-1.37c-.4-.4-.92-.59-1.43-.59-.52 0-1.04.2-1.43.59L10.3 9.45l-7.72 7.72c-.78.78-.78 2.05 0 2.83L4 21.41c.39.39.9.59 1.41.59.51 0 1.02-.2 1.41-.59l7.78-7.78 2.81-2.81c.8-.78.8-2.07 0-2.86zM5.41 20L4 18.59l7.72-7.72 1.47 1.35L5.41 20z\"/>\n",
              "  </svg>\n",
              "      </button>\n",
              "      \n",
              "  <style>\n",
              "    .colab-df-container {\n",
              "      display:flex;\n",
              "      flex-wrap:wrap;\n",
              "      gap: 12px;\n",
              "    }\n",
              "\n",
              "    .colab-df-convert {\n",
              "      background-color: #E8F0FE;\n",
              "      border: none;\n",
              "      border-radius: 50%;\n",
              "      cursor: pointer;\n",
              "      display: none;\n",
              "      fill: #1967D2;\n",
              "      height: 32px;\n",
              "      padding: 0 0 0 0;\n",
              "      width: 32px;\n",
              "    }\n",
              "\n",
              "    .colab-df-convert:hover {\n",
              "      background-color: #E2EBFA;\n",
              "      box-shadow: 0px 1px 2px rgba(60, 64, 67, 0.3), 0px 1px 3px 1px rgba(60, 64, 67, 0.15);\n",
              "      fill: #174EA6;\n",
              "    }\n",
              "\n",
              "    [theme=dark] .colab-df-convert {\n",
              "      background-color: #3B4455;\n",
              "      fill: #D2E3FC;\n",
              "    }\n",
              "\n",
              "    [theme=dark] .colab-df-convert:hover {\n",
              "      background-color: #434B5C;\n",
              "      box-shadow: 0px 1px 3px 1px rgba(0, 0, 0, 0.15);\n",
              "      filter: drop-shadow(0px 1px 2px rgba(0, 0, 0, 0.3));\n",
              "      fill: #FFFFFF;\n",
              "    }\n",
              "  </style>\n",
              "\n",
              "      <script>\n",
              "        const buttonEl =\n",
              "          document.querySelector('#df-cb89e3bf-37e8-473d-8f43-2b49477ad6c4 button.colab-df-convert');\n",
              "        buttonEl.style.display =\n",
              "          google.colab.kernel.accessAllowed ? 'block' : 'none';\n",
              "\n",
              "        async function convertToInteractive(key) {\n",
              "          const element = document.querySelector('#df-cb89e3bf-37e8-473d-8f43-2b49477ad6c4');\n",
              "          const dataTable =\n",
              "            await google.colab.kernel.invokeFunction('convertToInteractive',\n",
              "                                                     [key], {});\n",
              "          if (!dataTable) return;\n",
              "\n",
              "          const docLinkHtml = 'Like what you see? Visit the ' +\n",
              "            '<a target=\"_blank\" href=https://colab.research.google.com/notebooks/data_table.ipynb>data table notebook</a>'\n",
              "            + ' to learn more about interactive tables.';\n",
              "          element.innerHTML = '';\n",
              "          dataTable['output_type'] = 'display_data';\n",
              "          await google.colab.output.renderOutput(dataTable, element);\n",
              "          const docLink = document.createElement('div');\n",
              "          docLink.innerHTML = docLinkHtml;\n",
              "          element.appendChild(docLink);\n",
              "        }\n",
              "      </script>\n",
              "    </div>\n",
              "  </div>\n",
              "  "
            ],
            "text/plain": [
              "  STUDENTID  AGE  GENDER  HS_TYPE  SCHOLARSHIP  WORK  ACTIVITY  PARTNER  \\\n",
              "0  STUDENT1    2       2        3            3     1         2        2   \n",
              "1  STUDENT2    2       2        3            3     1         2        2   \n",
              "2  STUDENT3    2       2        2            3     2         2        2   \n",
              "3  STUDENT4    1       1        1            3     1         2        1   \n",
              "4  STUDENT5    2       2        1            3     2         2        1   \n",
              "\n",
              "   SALARY  TRANSPORT  LIVING  MOTHER_EDU  FATHER_EDU  #_SIBLINGS  KIDS  \\\n",
              "0       1          1       1           1           2           3     1   \n",
              "1       1          1       1           2           3           2     1   \n",
              "2       2          4       2           2           2           2     1   \n",
              "3       2          1       2           1           2           5     1   \n",
              "4       3          1       4           3           3           2     1   \n",
              "\n",
              "   MOTHER_JOB  FATHER_JOB  STUDY_HRS  READ_FREQ  READ_FREQ_SCI  ATTEND_DEPT  \\\n",
              "0           2           5          3          2              2            1   \n",
              "1           2           1          2          2              2            1   \n",
              "2           2           1          2          1              2            1   \n",
              "3           2           1          3          1              2            1   \n",
              "4           2           4          2          1              1            1   \n",
              "\n",
              "   IMPACT  ATTEND  PREP_STUDY  PREP_EXAM  NOTES  LISTENS  LIKES_DISCUSS  \\\n",
              "0       1       1           1          1      3        2              1   \n",
              "1       1       1           1          1      3        2              3   \n",
              "2       1       1           1          1      2        2              1   \n",
              "3       1       1           1          2      3        2              2   \n",
              "4       1       1           2          1      2        2              2   \n",
              "\n",
              "   CLASSROOM  CUML_GPA  EXP_GPA  COURSE ID  GRADE  \n",
              "0          2         1        1          1      1  \n",
              "1          2         2        3          1      1  \n",
              "2          1         2        2          1      1  \n",
              "3          1         3        2          1      1  \n",
              "4          1         2        2          1      1  "
            ]
          },
          "metadata": {},
          "execution_count": 342
        }
      ]
    },
    {
      "cell_type": "code",
      "source": [
        "pd.set_option('display.max_columns', None) # print all columns\n",
        "#print(dataFrame['CreditScore'])\n",
        "X = dataFrame.iloc[:,3:13] # select relevant rows and columns to X (here for example columns 5,6,7,8,9,10 and 11)\n",
        "y = dataFrame.iloc[:, -1] # select column(s) for y (here only the last column)\n",
        "# Capital X and lower-case y comes from Linear Algebra. The input is often a 2D array (matrix, named X) while the output is often a 1D array (vector, named y)\n"
      ],
      "metadata": {
        "id": "NzhBJt8PbOUA"
      },
      "execution_count": null,
      "outputs": []
    },
    {
      "cell_type": "code",
      "source": [
        "X = pd.get_dummies(X) # convert ALL text-columns to categorical variables (One Hot encoding), e.g. gender, country etc. \n",
        "columnNames = list(X.columns) # grab column-names before converting to numpy array\n",
        "X = X.values # convert from Pandas dataframe to numpy array\n",
        "y = y.values # convert from Pandas dataframe to numpy array"
      ],
      "metadata": {
        "id": "qp_AA9XPbVx6"
      },
      "execution_count": null,
      "outputs": []
    },
    {
      "cell_type": "code",
      "source": [
        "print(X[0:5,:])"
      ],
      "metadata": {
        "id": "mNf-eP9CQACu"
      },
      "execution_count": null,
      "outputs": []
    },
    {
      "cell_type": "code",
      "source": [
        "scaler = StandardScaler()\n",
        "X = scaler.fit_transform(X) # calculate mean and standard deviation and convert dataframe to numpy array"
      ],
      "metadata": {
        "id": "6BeygvXKbZEC"
      },
      "execution_count": null,
      "outputs": []
    },
    {
      "cell_type": "code",
      "source": [
        "print(X[0:5,:])"
      ],
      "metadata": {
        "id": "TgK62vvsQFSV"
      },
      "execution_count": null,
      "outputs": []
    },
    {
      "cell_type": "code",
      "source": [
        "X_train, X_test, y_train, y_test = train_test_split(X,y,test_size = 0.2, random_state = 42 )\n",
        "# random_state set to some value will provide same output\n"
      ],
      "metadata": {
        "id": "56-U7427bdfq"
      },
      "execution_count": null,
      "outputs": []
    },
    {
      "cell_type": "code",
      "source": [
        "model = Sequential()\n",
        "model.add(Dense(4,activation='relu')) # 4 outputs. It will automatically adapt to number inputs\n",
        "model.add(Dense(4,activation='relu'))\n",
        "model.add(Dense(4,activation='relu'))\n",
        "model.add(Dense(1)) # Final output node for prediction. In this case, only one output neuron\n",
        "\n",
        "adam = Adam(learning_rate=0.001) \n",
        "model.compile(loss='binary_crossentropy', optimizer=adam, metrics=['accuracy'])  \n"
      ],
      "metadata": {
        "id": "Ep0IxHwtbglt"
      },
      "execution_count": null,
      "outputs": []
    },
    {
      "cell_type": "code",
      "source": [
        "model.fit(X_train,y_train,epochs=100, verbose=1)  # does the actual WORK !. verbose=1 will show output. 0 = no output.\n",
        "\n"
      ],
      "metadata": {
        "colab": {
          "base_uri": "https://localhost:8080/"
        },
        "id": "hcujGtImbpHq",
        "outputId": "a073aa61-0021-4efd-c4c2-3a59e7b18778"
      },
      "execution_count": null,
      "outputs": [
        {
          "output_type": "stream",
          "name": "stdout",
          "text": [
            "Epoch 1/100\n",
            "4/4 [==============================] - 1s 4ms/step - loss: 4.5188 - accuracy: 0.0000e+00\n",
            "Epoch 2/100\n",
            "4/4 [==============================] - 0s 4ms/step - loss: 3.7544 - accuracy: 0.0000e+00\n",
            "Epoch 3/100\n",
            "4/4 [==============================] - 0s 5ms/step - loss: 3.4710 - accuracy: 0.0086\n",
            "Epoch 4/100\n",
            "4/4 [==============================] - 0s 4ms/step - loss: 3.2453 - accuracy: 0.0172\n",
            "Epoch 5/100\n",
            "4/4 [==============================] - 0s 5ms/step - loss: 3.0477 - accuracy: 0.0172\n",
            "Epoch 6/100\n",
            "4/4 [==============================] - 0s 4ms/step - loss: 2.8697 - accuracy: 0.0172\n",
            "Epoch 7/100\n",
            "4/4 [==============================] - 0s 4ms/step - loss: 2.7128 - accuracy: 0.0172\n",
            "Epoch 8/100\n",
            "4/4 [==============================] - 0s 4ms/step - loss: 2.5598 - accuracy: 0.0259\n",
            "Epoch 9/100\n",
            "4/4 [==============================] - 0s 3ms/step - loss: 2.4025 - accuracy: 0.0259\n",
            "Epoch 10/100\n",
            "4/4 [==============================] - 0s 4ms/step - loss: 2.2496 - accuracy: 0.0431\n",
            "Epoch 11/100\n",
            "4/4 [==============================] - 0s 6ms/step - loss: 2.0112 - accuracy: 0.0690\n",
            "Epoch 12/100\n",
            "4/4 [==============================] - 0s 3ms/step - loss: 1.8652 - accuracy: 0.0776\n",
            "Epoch 13/100\n",
            "4/4 [==============================] - 0s 4ms/step - loss: 1.7188 - accuracy: 0.0862\n",
            "Epoch 14/100\n",
            "4/4 [==============================] - 0s 4ms/step - loss: 1.4816 - accuracy: 0.0862\n",
            "Epoch 15/100\n",
            "4/4 [==============================] - 0s 4ms/step - loss: 1.3325 - accuracy: 0.0862\n",
            "Epoch 16/100\n",
            "4/4 [==============================] - 0s 4ms/step - loss: 1.0924 - accuracy: 0.1034\n",
            "Epoch 17/100\n",
            "4/4 [==============================] - 0s 4ms/step - loss: 0.9427 - accuracy: 0.1121\n",
            "Epoch 18/100\n",
            "4/4 [==============================] - 0s 5ms/step - loss: 0.6982 - accuracy: 0.1207\n",
            "Epoch 19/100\n",
            "4/4 [==============================] - 0s 4ms/step - loss: 0.5254 - accuracy: 0.1552\n",
            "Epoch 20/100\n",
            "4/4 [==============================] - 0s 3ms/step - loss: 0.1496 - accuracy: 0.1810\n",
            "Epoch 21/100\n",
            "4/4 [==============================] - 0s 4ms/step - loss: -0.3167 - accuracy: 0.1897\n",
            "Epoch 22/100\n",
            "4/4 [==============================] - 0s 4ms/step - loss: -1.1007 - accuracy: 0.1983\n",
            "Epoch 23/100\n",
            "4/4 [==============================] - 0s 5ms/step - loss: -1.3124 - accuracy: 0.2069\n",
            "Epoch 24/100\n",
            "4/4 [==============================] - 0s 6ms/step - loss: -1.4210 - accuracy: 0.2241\n",
            "Epoch 25/100\n",
            "4/4 [==============================] - 0s 4ms/step - loss: -1.5540 - accuracy: 0.2328\n",
            "Epoch 26/100\n",
            "4/4 [==============================] - 0s 4ms/step - loss: -1.9716 - accuracy: 0.2414\n",
            "Epoch 27/100\n",
            "4/4 [==============================] - 0s 3ms/step - loss: -2.2914 - accuracy: 0.2500\n",
            "Epoch 28/100\n",
            "4/4 [==============================] - 0s 4ms/step - loss: -2.5114 - accuracy: 0.2672\n",
            "Epoch 29/100\n",
            "4/4 [==============================] - 0s 3ms/step - loss: -2.6809 - accuracy: 0.2672\n",
            "Epoch 30/100\n",
            "4/4 [==============================] - 0s 4ms/step - loss: -3.2972 - accuracy: 0.2672\n",
            "Epoch 31/100\n",
            "4/4 [==============================] - 0s 4ms/step - loss: -3.5630 - accuracy: 0.2759\n",
            "Epoch 32/100\n",
            "4/4 [==============================] - 0s 4ms/step - loss: -4.3902 - accuracy: 0.2845\n",
            "Epoch 33/100\n",
            "4/4 [==============================] - 0s 5ms/step - loss: -4.5850 - accuracy: 0.2845\n",
            "Epoch 34/100\n",
            "4/4 [==============================] - 0s 4ms/step - loss: -4.9111 - accuracy: 0.3017\n",
            "Epoch 35/100\n",
            "4/4 [==============================] - 0s 3ms/step - loss: -5.4899 - accuracy: 0.3017\n",
            "Epoch 36/100\n",
            "4/4 [==============================] - 0s 4ms/step - loss: -5.5731 - accuracy: 0.3017\n",
            "Epoch 37/100\n",
            "4/4 [==============================] - 0s 4ms/step - loss: -5.6776 - accuracy: 0.3103\n",
            "Epoch 38/100\n",
            "4/4 [==============================] - 0s 4ms/step - loss: -6.2676 - accuracy: 0.3190\n",
            "Epoch 39/100\n",
            "4/4 [==============================] - 0s 5ms/step - loss: -6.5924 - accuracy: 0.3276\n",
            "Epoch 40/100\n",
            "4/4 [==============================] - 0s 4ms/step - loss: -6.6366 - accuracy: 0.3276\n",
            "Epoch 41/100\n",
            "4/4 [==============================] - 0s 3ms/step - loss: -6.8247 - accuracy: 0.3276\n",
            "Epoch 42/100\n",
            "4/4 [==============================] - 0s 4ms/step - loss: -7.0246 - accuracy: 0.3276\n",
            "Epoch 43/100\n",
            "4/4 [==============================] - 0s 4ms/step - loss: -7.1781 - accuracy: 0.3276\n",
            "Epoch 44/100\n",
            "4/4 [==============================] - 0s 5ms/step - loss: -7.3170 - accuracy: 0.3362\n",
            "Epoch 45/100\n",
            "4/4 [==============================] - 0s 4ms/step - loss: -7.3851 - accuracy: 0.3362\n",
            "Epoch 46/100\n",
            "4/4 [==============================] - 0s 4ms/step - loss: -7.6936 - accuracy: 0.3448\n",
            "Epoch 47/100\n",
            "4/4 [==============================] - 0s 4ms/step - loss: -7.9051 - accuracy: 0.3448\n",
            "Epoch 48/100\n",
            "4/4 [==============================] - 0s 4ms/step - loss: -7.9262 - accuracy: 0.3448\n",
            "Epoch 49/100\n",
            "4/4 [==============================] - 0s 4ms/step - loss: -8.0285 - accuracy: 0.3621\n",
            "Epoch 50/100\n",
            "4/4 [==============================] - 0s 3ms/step - loss: -8.0351 - accuracy: 0.3621\n",
            "Epoch 51/100\n",
            "4/4 [==============================] - 0s 4ms/step - loss: -8.0411 - accuracy: 0.3621\n",
            "Epoch 52/100\n",
            "4/4 [==============================] - 0s 4ms/step - loss: -8.0469 - accuracy: 0.3621\n",
            "Epoch 53/100\n",
            "4/4 [==============================] - 0s 4ms/step - loss: -8.0531 - accuracy: 0.3621\n",
            "Epoch 54/100\n",
            "4/4 [==============================] - 0s 4ms/step - loss: -8.0594 - accuracy: 0.3707\n",
            "Epoch 55/100\n",
            "4/4 [==============================] - 0s 4ms/step - loss: -8.0649 - accuracy: 0.3707\n",
            "Epoch 56/100\n",
            "4/4 [==============================] - 0s 4ms/step - loss: -8.0716 - accuracy: 0.3707\n",
            "Epoch 57/100\n",
            "4/4 [==============================] - 0s 5ms/step - loss: -8.0787 - accuracy: 0.3707\n",
            "Epoch 58/100\n",
            "4/4 [==============================] - 0s 4ms/step - loss: -8.0859 - accuracy: 0.3707\n",
            "Epoch 59/100\n",
            "4/4 [==============================] - 0s 3ms/step - loss: -8.0959 - accuracy: 0.3707\n",
            "Epoch 60/100\n",
            "4/4 [==============================] - 0s 5ms/step - loss: -8.1072 - accuracy: 0.3707\n",
            "Epoch 61/100\n",
            "4/4 [==============================] - 0s 3ms/step - loss: -8.2174 - accuracy: 0.3793\n",
            "Epoch 62/100\n",
            "4/4 [==============================] - 0s 4ms/step - loss: -8.2287 - accuracy: 0.3879\n",
            "Epoch 63/100\n",
            "4/4 [==============================] - 0s 6ms/step - loss: -8.3351 - accuracy: 0.3879\n",
            "Epoch 64/100\n",
            "4/4 [==============================] - 0s 4ms/step - loss: -8.3441 - accuracy: 0.3879\n",
            "Epoch 65/100\n",
            "4/4 [==============================] - 0s 4ms/step - loss: -8.3511 - accuracy: 0.3879\n",
            "Epoch 66/100\n",
            "4/4 [==============================] - 0s 4ms/step - loss: -8.4071 - accuracy: 0.3879\n",
            "Epoch 67/100\n",
            "4/4 [==============================] - 0s 4ms/step - loss: -8.4894 - accuracy: 0.3966\n",
            "Epoch 68/100\n",
            "4/4 [==============================] - 0s 3ms/step - loss: -8.5172 - accuracy: 0.3966\n",
            "Epoch 69/100\n",
            "4/4 [==============================] - 0s 4ms/step - loss: -8.6042 - accuracy: 0.4052\n",
            "Epoch 70/100\n",
            "4/4 [==============================] - 0s 5ms/step - loss: -8.6118 - accuracy: 0.4052\n",
            "Epoch 71/100\n",
            "4/4 [==============================] - 0s 3ms/step - loss: -8.6177 - accuracy: 0.4052\n",
            "Epoch 72/100\n",
            "4/4 [==============================] - 0s 4ms/step - loss: -8.6216 - accuracy: 0.4052\n",
            "Epoch 73/100\n",
            "4/4 [==============================] - 0s 4ms/step - loss: -8.6253 - accuracy: 0.4052\n",
            "Epoch 74/100\n",
            "4/4 [==============================] - 0s 4ms/step - loss: -8.6290 - accuracy: 0.4052\n",
            "Epoch 75/100\n",
            "4/4 [==============================] - 0s 3ms/step - loss: -8.6311 - accuracy: 0.4052\n",
            "Epoch 76/100\n",
            "4/4 [==============================] - 0s 4ms/step - loss: -8.6340 - accuracy: 0.4052\n",
            "Epoch 77/100\n",
            "4/4 [==============================] - 0s 3ms/step - loss: -8.6363 - accuracy: 0.4052\n",
            "Epoch 78/100\n",
            "4/4 [==============================] - 0s 4ms/step - loss: -8.6378 - accuracy: 0.4052\n",
            "Epoch 79/100\n",
            "4/4 [==============================] - 0s 4ms/step - loss: -8.6409 - accuracy: 0.4052\n",
            "Epoch 80/100\n",
            "4/4 [==============================] - 0s 3ms/step - loss: -8.6432 - accuracy: 0.4052\n",
            "Epoch 81/100\n",
            "4/4 [==============================] - 0s 3ms/step - loss: -8.6459 - accuracy: 0.4052\n",
            "Epoch 82/100\n",
            "4/4 [==============================] - 0s 3ms/step - loss: -8.6499 - accuracy: 0.4052\n",
            "Epoch 83/100\n",
            "4/4 [==============================] - 0s 5ms/step - loss: -8.6534 - accuracy: 0.4052\n",
            "Epoch 84/100\n",
            "4/4 [==============================] - 0s 5ms/step - loss: -8.6584 - accuracy: 0.4052\n",
            "Epoch 85/100\n",
            "4/4 [==============================] - 0s 4ms/step - loss: -8.6642 - accuracy: 0.4052\n",
            "Epoch 86/100\n",
            "4/4 [==============================] - 0s 4ms/step - loss: -8.7559 - accuracy: 0.4052\n",
            "Epoch 87/100\n",
            "4/4 [==============================] - 0s 4ms/step - loss: -8.7576 - accuracy: 0.4052\n",
            "Epoch 88/100\n",
            "4/4 [==============================] - 0s 3ms/step - loss: -8.7595 - accuracy: 0.4052\n",
            "Epoch 89/100\n",
            "4/4 [==============================] - 0s 4ms/step - loss: -8.7614 - accuracy: 0.4052\n",
            "Epoch 90/100\n",
            "4/4 [==============================] - 0s 5ms/step - loss: -8.7634 - accuracy: 0.4052\n",
            "Epoch 91/100\n",
            "4/4 [==============================] - 0s 3ms/step - loss: -8.7659 - accuracy: 0.4052\n",
            "Epoch 92/100\n",
            "4/4 [==============================] - 0s 5ms/step - loss: -8.7680 - accuracy: 0.4052\n",
            "Epoch 93/100\n",
            "4/4 [==============================] - 0s 4ms/step - loss: -8.7700 - accuracy: 0.4052\n",
            "Epoch 94/100\n",
            "4/4 [==============================] - 0s 5ms/step - loss: -8.7732 - accuracy: 0.4052\n",
            "Epoch 95/100\n",
            "4/4 [==============================] - 0s 4ms/step - loss: -8.7757 - accuracy: 0.4052\n",
            "Epoch 96/100\n",
            "4/4 [==============================] - 0s 4ms/step - loss: -8.7803 - accuracy: 0.4138\n",
            "Epoch 97/100\n",
            "4/4 [==============================] - 0s 5ms/step - loss: -8.7852 - accuracy: 0.4138\n",
            "Epoch 98/100\n",
            "4/4 [==============================] - 0s 4ms/step - loss: -8.7940 - accuracy: 0.4138\n",
            "Epoch 99/100\n",
            "4/4 [==============================] - 0s 4ms/step - loss: -8.8187 - accuracy: 0.4138\n",
            "Epoch 100/100\n",
            "4/4 [==============================] - 0s 3ms/step - loss: -8.9087 - accuracy: 0.4138\n"
          ]
        },
        {
          "output_type": "execute_result",
          "data": {
            "text/plain": [
              "<keras.callbacks.History at 0x7fbf64168fd0>"
            ]
          },
          "metadata": {},
          "execution_count": 348
        }
      ]
    },
    {
      "cell_type": "code",
      "source": [
        "loss = model.history.history['loss']\n",
        "sns.lineplot(x=range(len(loss)),y=loss)\n",
        "\n"
      ],
      "metadata": {
        "colab": {
          "base_uri": "https://localhost:8080/",
          "height": 282
        },
        "id": "XVELYCkVbpvZ",
        "outputId": "1819b7b9-386b-4743-f585-7b9cdea77f83"
      },
      "execution_count": null,
      "outputs": [
        {
          "output_type": "execute_result",
          "data": {
            "text/plain": [
              "<matplotlib.axes._subplots.AxesSubplot at 0x7fbf63fbf250>"
            ]
          },
          "metadata": {},
          "execution_count": 349
        },
        {
          "output_type": "display_data",
          "data": {
            "image/png": "[encoded data removed]",
            "text/plain": [
              "<Figure size 432x288 with 1 Axes>"
            ]
          },
          "metadata": {
            "needs_background": "light"
          }
        }
      ]
    },
    {
      "cell_type": "code",
      "source": [
        "y_pred = model.predict(X_test)\n",
        "y_pred = (y_pred > 0.5) # creates a new array with true/false based on the boolean test\n",
        "\n",
        "cm = confusion_matrix(y_test, y_pred)\n",
        "print(cm)\n"
      ],
      "metadata": {
        "colab": {
          "base_uri": "https://localhost:8080/"
        },
        "id": "XFEBJ_uBbpx-",
        "outputId": "9c3d44f2-7a9d-45e0-a81d-1abd4e8e0c0c"
      },
      "execution_count": null,
      "outputs": [
        {
          "output_type": "stream",
          "name": "stdout",
          "text": [
            "[[ 0  0  0  0]\n",
            " [ 4  9  0  0]\n",
            " [ 0 12  0  0]\n",
            " [ 0  4  0  0]]\n"
          ]
        }
      ]
    },
    {
      "cell_type": "code",
      "source": [
        "#print(columnNames) # first print column names, so you can enter new data in the correct columns\n",
        "new_value = [[120,24,3,200,0,1,0,55000,0,1,0,1,0]] # enter new data in 2D array. Only numbers + dummy variables. \n",
        "new_value = scaler.transform(new_value) # Don't forget to scale!\n",
        "model.predict(new_value)\n"
      ],
      "metadata": {
        "colab": {
          "base_uri": "https://localhost:8080/"
        },
        "id": "-UYuTUoRbssG",
        "outputId": "91e4f226-4c78-4932-e5f2-8f1d29535443"
      },
      "execution_count": null,
      "outputs": [
        {
          "output_type": "stream",
          "name": "stdout",
          "text": [
            "['AGE', 'GENDER', 'HS_TYPE', 'SCHOLARSHIP', 'WORK', 'ACTIVITY', 'PARTNER', 'SALARY', 'TRANSPORT', 'LIVING', 'MOTHER_EDU', 'FATHER_EDU', '#_SIBLINGS', 'KIDS', 'MOTHER_JOB', 'FATHER_JOB', 'STUDY_HRS', 'READ_FREQ', 'READ_FREQ_SCI', 'ATTEND_DEPT', 'IMPACT', 'ATTEND', 'PREP_STUDY', 'PREP_EXAM', 'NOTES', 'LISTENS', 'LIKES_DISCUSS', 'CLASSROOM', 'CUML_GPA', 'EXP_GPA', 'COURSE ID', 'GRADE']\n"
          ]
        },
        {
          "output_type": "execute_result",
          "data": {
            "text/plain": [
              "array([[4.35358]], dtype=float32)"
            ]
          },
          "metadata": {},
          "execution_count": 351
        }
      ]
    },
    {
      "cell_type": "code",
      "source": [
        "model.save('my_model.h5')  # creates a HDF5 file 'my_model.h5'"
      ],
      "metadata": {
        "id": "-YJBguVFcwcO"
      },
      "execution_count": null,
      "outputs": []
    },
    {
      "cell_type": "code",
      "source": [
        "myModel = load_model('my_model.h5') # myModel is ready for predicting right away!\n",
        "\n"
      ],
      "metadata": {
        "id": "rij0xBxxcw76"
      },
      "execution_count": null,
      "outputs": []
    }
  ]
}