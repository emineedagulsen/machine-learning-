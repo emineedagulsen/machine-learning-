{
  "nbformat": 4,
  "nbformat_minor": 0,
  "metadata": {
    "colab": {
      "name": "SOLID.ipynb",
      "provenance": [],
      "collapsed_sections": []
    },
    "kernelspec": {
      "name": "python3",
      "display_name": "Python 3"
    },
    "language_info": {
      "name": "python"
    }
  },
  "cells": [
    {
      "cell_type": "code",
      "execution_count": 1,
      "metadata": {
        "id": "OTTA2xyTF1R8"
      },
      "outputs": [],
      "source": [
        "import numpy as np\n",
        "from tensorflow.keras.models import Sequential, load_model\n",
        "from tensorflow.keras.layers import Dense,Conv2D, MaxPool2D,Flatten\n",
        "from tensorflow.keras.optimizers import Adam\n",
        "from sklearn.metrics import confusion_matrix, accuracy_score\n",
        "from keras.preprocessing.image import ImageDataGenerator\n",
        "from keras.preprocessing import image\n",
        "import cv2"
      ]
    },
    {
      "cell_type": "code",
      "source": [
        "!rm -r machine-learning-/  # first remove folder, if present\n",
        "!git clone https://github.com/emineedagulsen/machine-learning-"
      ],
      "metadata": {
        "id": "J5gKhHA0UHqw",
        "colab": {
          "base_uri": "https://localhost:8080/"
        },
        "outputId": "b8005992-0586-4bae-8bbd-e3d77e015db4"
      },
      "execution_count": 2,
      "outputs": [
        {
          "output_type": "stream",
          "name": "stdout",
          "text": [
            "Cloning into 'machine-learning-'...\n",
            "remote: Enumerating objects: 39431, done.\u001b[K\n",
            "remote: Counting objects: 100% (24/24), done.\u001b[K\n",
            "remote: Compressing objects: 100% (23/23), done.\u001b[K\n",
            "remote: Total 39431 (delta 5), reused 15 (delta 1), pack-reused 39407\u001b[K\n",
            "Receiving objects: 100% (39431/39431), 823.90 MiB | 14.20 MiB/s, done.\n",
            "Resolving deltas: 100% (396/396), done.\n",
            "Checking out files: 100% (12278/12278), done.\n"
          ]
        }
      ]
    },
    {
      "cell_type": "code",
      "source": [
        "targetSize = 224 # pixel dimension after ImageDataGenerator has processed\n",
        "color = \"grayscale\" # use \"rgb\" for color images\n",
        "classMode='binary' # use 'categorical' for >2 class, 'binary' for two-class problems\n",
        "trainingFiles = 'machine-learning-/solid_waste/train' # change according to your setup\n",
        "testFile = 'machine-learning-/solid_waste/test'\n",
        "\n"
      ],
      "metadata": {
        "id": "Ho8VZYuxUHtb"
      },
      "execution_count": 3,
      "outputs": []
    },
    {
      "cell_type": "code",
      "source": [
        "trainingFiles2 = 'machine-learning-/solid_waste/train/black' # change according to your setup\n",
        "testFile2 = 'machine-learning-/solid_waste/test/black'\n",
        "trainingFiles3 = 'machine-learning-/solid_waste/train/white' # change according to your setup\n",
        "testFile3 = 'machine-learning-/solid_waste/test/white'"
      ],
      "metadata": {
        "id": "xlmAk2K-Uy94"
      },
      "execution_count": 4,
      "outputs": []
    },
    {
      "cell_type": "code",
      "source": [
        "\n",
        "#%pylab inline\n",
        "#import matplotlib.pyplot as plt\n",
        "#import matplotlib.image as mpimg\n",
        "#img = mpimg.imread(singleTestFile)\n",
        "#imgplot = plt.imshow(img)\n",
        "#plt.show()\n"
      ],
      "metadata": {
        "id": "Q3qFIHg7UHv4"
      },
      "execution_count": 5,
      "outputs": []
    },
    {
      "cell_type": "code",
      "source": [
        "train_datagen = ImageDataGenerator(\n",
        "        rescale=1./255,  # change pixel value from 0-255 to 0.0 - 1.0\n",
        "         shear_range=0.2, # distort the image sideways\n",
        "        zoom_range=0.2,\n",
        "        horizontal_flip=True\n",
        "        )\n",
        "\n",
        "        "
      ],
      "metadata": {
        "id": "yjALrjvRUHyX"
      },
      "execution_count": 6,
      "outputs": []
    },
    {
      "cell_type": "code",
      "source": [
        "test_datagen = ImageDataGenerator(rescale=1./255)"
      ],
      "metadata": {
        "id": "-sDPI5CHPrD9"
      },
      "execution_count": 7,
      "outputs": []
    },
    {
      "cell_type": "markdown",
      "source": [
        "TRAINING FOR BLACK OR WHİTE\n"
      ],
      "metadata": {
        "id": "DpDdbrqGVFBU"
      }
    },
    {
      "cell_type": "code",
      "source": [
        "training_set = train_datagen.flow_from_directory(\n",
        "        trainingFiles, # path to folder with images\n",
        "        target_size=(targetSize, targetSize), # size of output image, here we used 28 x 28 pixel\n",
        "        batch_size=11, # how many images to load at a time\n",
        "        class_mode=classMode, # use 'categorical' for >2 class, 'binary' for two-class problems\n",
        "        color_mode=color)   # use 'grayscale' for black/white, 'rgb' for color"
      ],
      "metadata": {
        "id": "621rlenxUH0r",
        "colab": {
          "base_uri": "https://localhost:8080/"
        },
        "outputId": "51fe1d89-2878-4930-9442-f2e97e1c7b69"
      },
      "execution_count": 8,
      "outputs": [
        {
          "output_type": "stream",
          "name": "stdout",
          "text": [
            "Found 583 images belonging to 2 classes.\n"
          ]
        }
      ]
    },
    {
      "cell_type": "code",
      "source": [
        "test_set = test_datagen.flow_from_directory(\n",
        "        testFile, # path to folder with images\n",
        "        target_size=(targetSize, targetSize), # size of output image, here we used 28 x 28 pixel\n",
        "        batch_size=7, # how many images to load at a time\n",
        "        class_mode=classMode, # use 'categorical' for >2 class, 'binary' for two-class problems\n",
        "        color_mode=color)   # use 'grayscale' for black/white, 'rgb' for color"
      ],
      "metadata": {
        "id": "n5LtJr_5UH3S",
        "colab": {
          "base_uri": "https://localhost:8080/"
        },
        "outputId": "83fcbb13-95e2-42ef-a4e2-761242f79ccb"
      },
      "execution_count": 9,
      "outputs": [
        {
          "output_type": "stream",
          "name": "stdout",
          "text": [
            "Found 959 images belonging to 2 classes.\n"
          ]
        }
      ]
    },
    {
      "cell_type": "markdown",
      "source": [
        "*TRAINING* FOR BLACK\n",
        "\n"
      ],
      "metadata": {
        "id": "HxvM6sd6VOFH"
      }
    },
    {
      "cell_type": "code",
      "source": [
        "training_set2 = train_datagen.flow_from_directory(\n",
        "        trainingFiles2, # path to folder with images\n",
        "        target_size=(targetSize, targetSize), # size of output image, here we used 28 x 28 pixel\n",
        "        batch_size=23, # how many images to load at a time\n",
        "        class_mode=classMode, # use 'categorical' for >2 class, 'binary' for two-class problems\n",
        "        color_mode=color)   # use 'grayscale' for black/white, 'rgb' for color"
      ],
      "metadata": {
        "id": "TTD9TffpVIGK",
        "colab": {
          "base_uri": "https://localhost:8080/"
        },
        "outputId": "16e8fc31-1e8f-4752-a566-e2141d9450f9"
      },
      "execution_count": 10,
      "outputs": [
        {
          "output_type": "stream",
          "name": "stdout",
          "text": [
            "Found 322 images belonging to 2 classes.\n"
          ]
        }
      ]
    },
    {
      "cell_type": "code",
      "source": [
        "test_set2 = test_datagen.flow_from_directory(\n",
        "        testFile2, # path to folder with images\n",
        "        target_size=(targetSize, targetSize), # size of output image, here we used 28 x 28 pixel\n",
        "        batch_size=24, # how many images to load at a time\n",
        "        class_mode=classMode, # use 'categorical' for >2 class, 'binary' for two-class problems\n",
        "        color_mode=color)   # use 'grayscale' for black/white, 'rgb' for color"
      ],
      "metadata": {
        "id": "TgNpOFEDVXIq",
        "colab": {
          "base_uri": "https://localhost:8080/"
        },
        "outputId": "cbe21e9a-fd70-4f8b-f3e5-6e0fd8346752"
      },
      "execution_count": 11,
      "outputs": [
        {
          "output_type": "stream",
          "name": "stdout",
          "text": [
            "Found 698 images belonging to 2 classes.\n"
          ]
        }
      ]
    },
    {
      "cell_type": "markdown",
      "source": [
        "TRAINING FOR WHITE"
      ],
      "metadata": {
        "id": "vuTaW885Idm4"
      }
    },
    {
      "cell_type": "code",
      "source": [
        "training_set3 = train_datagen.flow_from_directory(\n",
        "        trainingFiles3, # path to folder with images\n",
        "        target_size=(targetSize, targetSize), # size of output image, here we used 28 x 28 pixel\n",
        "        batch_size=9, # how many images to load at a time\n",
        "        class_mode=classMode, # use 'categorical' for >2 class, 'binary' for two-class problems\n",
        "        color_mode=color)   # use 'grayscale' for black/white, 'rgb' for color"
      ],
      "metadata": {
        "id": "ZT-xyQXBIckk",
        "colab": {
          "base_uri": "https://localhost:8080/"
        },
        "outputId": "f74f3f62-06bd-46fc-ebee-d36707db78c4"
      },
      "execution_count": 12,
      "outputs": [
        {
          "output_type": "stream",
          "name": "stdout",
          "text": [
            "Found 261 images belonging to 2 classes.\n"
          ]
        }
      ]
    },
    {
      "cell_type": "code",
      "source": [
        "test_set3 = test_datagen.flow_from_directory(\n",
        "        testFile3, # path to folder with images\n",
        "        target_size=(targetSize, targetSize), # size of output image, here we used 28 x 28 pixel\n",
        "        batch_size=29, # how many images to load at a time\n",
        "        class_mode=classMode, # use 'categorical' for >2 class, 'binary' for two-class problems\n",
        "        color_mode=color)   # use 'grayscale' for black/white, 'rgb' for color"
      ],
      "metadata": {
        "id": "fXDqMfxXIdKh",
        "colab": {
          "base_uri": "https://localhost:8080/"
        },
        "outputId": "79105c45-3780-4495-ed6d-1c201216c966"
      },
      "execution_count": 13,
      "outputs": [
        {
          "output_type": "stream",
          "name": "stdout",
          "text": [
            "Found 261 images belonging to 2 classes.\n"
          ]
        }
      ]
    },
    {
      "cell_type": "markdown",
      "source": [
        "MODEL FOR BLACK-WHITE"
      ],
      "metadata": {
        "id": "JwqTaGcTVbRr"
      }
    },
    {
      "cell_type": "code",
      "source": [
        "\n",
        "model = Sequential() # instantiate new model object\n",
        "\n",
        "model.add(Conv2D(filters=2,  # specify number of filters. Higher number for more complex images.\n",
        "               kernel_size=3,  # size of filter - typically 3, as in 3x3\n",
        "               activation=\"relu\", # activation function, often 'relu' on layers before last\n",
        "               input_shape=[targetSize,targetSize,1]))\n",
        "model.add(Conv2D(filters=2,  # specify number of filters. Higher number for more complex images.\n",
        "               kernel_size=3,  # size of filter - typically 3, as in 3x3\n",
        "               activation=\"relu\", # activation function, often 'relu' on layers before last\n",
        "              )) # dimension of image, coming in from training set. \n",
        "               # here 28x28 pixel. '1' is number of color channels. B/W = 1, Color = 3.\n",
        "\n",
        "model.add(MaxPool2D(pool_size=2, strides=2)) \n",
        "\n",
        "model.add(Flatten())\n",
        "# add fully connected layer (just as with DNN Step 11 above)\n",
        "model.add(Dense(15,activation='relu'))\n",
        "model.add(Dense(14,activation='relu'))\n",
        "\n",
        "model.add(Dense(1, activation=\"sigmoid\")) # one single output neuron and sigmoid ac. func.\n",
        "\n",
        "adam = Adam(learning_rate=0.001)\n",
        "model.compile(optimizer=adam, loss ='binary_crossentropy', metrics=['accuracy']) \n",
        "# here parameters are set to solve a two-class problem. Hence binary_crossentropy. "
      ],
      "metadata": {
        "id": "GHtOxNzhUPm6"
      },
      "execution_count": 29,
      "outputs": []
    },
    {
      "cell_type": "code",
      "source": [
        "model.fit(x=training_set, validation_data=test_set, epochs=10)\n"
      ],
      "metadata": {
        "colab": {
          "base_uri": "https://localhost:8080/"
        },
        "id": "-ljQeU-2MzQ7",
        "outputId": "3198e058-6e8f-4775-c91e-8407130e6a1d"
      },
      "execution_count": 30,
      "outputs": [
        {
          "output_type": "stream",
          "name": "stdout",
          "text": [
            "Epoch 1/10\n",
            "53/53 [==============================] - 28s 522ms/step - loss: 0.6056 - accuracy: 0.6484 - val_loss: 0.1289 - val_accuracy: 1.0000\n",
            "Epoch 2/10\n",
            "53/53 [==============================] - 28s 540ms/step - loss: 0.0214 - accuracy: 1.0000 - val_loss: 3.1298e-04 - val_accuracy: 1.0000\n",
            "Epoch 3/10\n",
            "53/53 [==============================] - 30s 566ms/step - loss: 3.6498e-04 - accuracy: 1.0000 - val_loss: 1.8698e-04 - val_accuracy: 1.0000\n",
            "Epoch 4/10\n",
            "53/53 [==============================] - 27s 517ms/step - loss: 2.4690e-04 - accuracy: 1.0000 - val_loss: 1.2577e-04 - val_accuracy: 1.0000\n",
            "Epoch 5/10\n",
            "53/53 [==============================] - 27s 517ms/step - loss: 1.8719e-04 - accuracy: 1.0000 - val_loss: 1.0199e-04 - val_accuracy: 1.0000\n",
            "Epoch 6/10\n",
            "53/53 [==============================] - 29s 543ms/step - loss: 1.3869e-04 - accuracy: 1.0000 - val_loss: 8.2804e-05 - val_accuracy: 1.0000\n",
            "Epoch 7/10\n",
            "53/53 [==============================] - 28s 524ms/step - loss: 1.1251e-04 - accuracy: 1.0000 - val_loss: 6.1491e-05 - val_accuracy: 1.0000\n",
            "Epoch 8/10\n",
            "53/53 [==============================] - 27s 518ms/step - loss: 9.2858e-05 - accuracy: 1.0000 - val_loss: 5.1197e-05 - val_accuracy: 1.0000\n",
            "Epoch 9/10\n",
            "53/53 [==============================] - 27s 518ms/step - loss: 7.7047e-05 - accuracy: 1.0000 - val_loss: 4.4610e-05 - val_accuracy: 1.0000\n",
            "Epoch 10/10\n",
            "53/53 [==============================] - 27s 518ms/step - loss: 6.4627e-05 - accuracy: 1.0000 - val_loss: 3.8281e-05 - val_accuracy: 1.0000\n"
          ]
        },
        {
          "output_type": "execute_result",
          "data": {
            "text/plain": [
              "<keras.callbacks.History at 0x7f10148b77d0>"
            ]
          },
          "metadata": {},
          "execution_count": 30
        }
      ]
    },
    {
      "cell_type": "code",
      "source": [
        "model.evaluate(test_set)"
      ],
      "metadata": {
        "id": "D8bVEoDCdFKh",
        "outputId": "22541d9e-df5a-4fd6-f5b3-e6d826a9a35d",
        "colab": {
          "base_uri": "https://localhost:8080/"
        }
      },
      "execution_count": 31,
      "outputs": [
        {
          "output_type": "stream",
          "name": "stdout",
          "text": [
            "137/137 [==============================] - 14s 99ms/step - loss: 3.8281e-05 - accuracy: 1.0000\n"
          ]
        },
        {
          "output_type": "execute_result",
          "data": {
            "text/plain": [
              "[3.82811194867827e-05, 1.0]"
            ]
          },
          "metadata": {},
          "execution_count": 31
        }
      ]
    },
    {
      "cell_type": "code",
      "source": [
        "training_set.class_indices"
      ],
      "metadata": {
        "id": "XHN2SYUAUPsF",
        "colab": {
          "base_uri": "https://localhost:8080/"
        },
        "outputId": "d42b695c-0400-4b88-dda8-bb3a5e4abe15"
      },
      "execution_count": 17,
      "outputs": [
        {
          "output_type": "execute_result",
          "data": {
            "text/plain": [
              "{'black': 0, 'white': 1}"
            ]
          },
          "metadata": {},
          "execution_count": 17
        }
      ]
    },
    {
      "cell_type": "markdown",
      "source": [
        " MODEL FOR BLACK PLASTIC OR METAL"
      ],
      "metadata": {
        "id": "ayZDU2SuVhVE"
      }
    },
    {
      "cell_type": "code",
      "source": [
        "\n",
        "modelA = Sequential() # instantiate new model object\n",
        "\n",
        "modelA.add(Conv2D(filters=2,  # specify number of filters. Higher number for more complex images.\n",
        "               kernel_size=3,  # size of filter - typically 3, as in 3x3\n",
        "               activation=\"relu\", # activation function, often 'relu' on layers before last\n",
        "               input_shape=[targetSize,targetSize,1])) # dimension of image, coming in from training set. \n",
        "               # here 28x28 pixel. '1' is number of color channels. B/W = 1, Color = 3.\n",
        "\n",
        "modelA.add(MaxPool2D(pool_size=2, strides=2)) \n",
        "\n",
        "modelA.add(Flatten())\n",
        "model.add(Dense(10,activation='relu'))\n",
        "model.add(Dense(9,activation='relu'))\n",
        "\n",
        "\n",
        "modelA.add(Dense(1, activation=\"sigmoid\")) # one single output neuron and sigmoid ac. func.\n",
        "\n",
        "adam = Adam(learning_rate=0.001)\n",
        "modelA.compile(optimizer=adam, loss = 'binary_crossentropy', metrics=['accuracy']) \n",
        "# here parameters are set to solve a two-class problem. Hence binary_crossentropy. "
      ],
      "metadata": {
        "id": "hTeqzZKvVg08"
      },
      "execution_count": 32,
      "outputs": []
    },
    {
      "cell_type": "code",
      "source": [
        "modelA.fit(x=training_set2, validation_data=test_set2, epochs=10)\n"
      ],
      "metadata": {
        "colab": {
          "base_uri": "https://localhost:8080/"
        },
        "id": "1og3KpM-LxGX",
        "outputId": "5bdd8592-008d-438b-fffc-921b3b6917e6"
      },
      "execution_count": 33,
      "outputs": [
        {
          "output_type": "stream",
          "name": "stdout",
          "text": [
            "Epoch 1/10\n",
            "14/14 [==============================] - 11s 774ms/step - loss: 0.7267 - accuracy: 0.7019 - val_loss: 0.6497 - val_accuracy: 0.5344\n",
            "Epoch 2/10\n",
            "14/14 [==============================] - 10s 755ms/step - loss: 0.4868 - accuracy: 0.7888 - val_loss: 0.5144 - val_accuracy: 0.7321\n",
            "Epoch 3/10\n",
            "14/14 [==============================] - 10s 753ms/step - loss: 0.4443 - accuracy: 0.7919 - val_loss: 0.4265 - val_accuracy: 0.8295\n",
            "Epoch 4/10\n",
            "14/14 [==============================] - 10s 753ms/step - loss: 0.4289 - accuracy: 0.7981 - val_loss: 0.5602 - val_accuracy: 0.6691\n",
            "Epoch 5/10\n",
            "14/14 [==============================] - 10s 758ms/step - loss: 0.3740 - accuracy: 0.8354 - val_loss: 0.3973 - val_accuracy: 0.8123\n",
            "Epoch 6/10\n",
            "14/14 [==============================] - 10s 750ms/step - loss: 0.3742 - accuracy: 0.8230 - val_loss: 0.3660 - val_accuracy: 0.8481\n",
            "Epoch 7/10\n",
            "14/14 [==============================] - 10s 758ms/step - loss: 0.3271 - accuracy: 0.8602 - val_loss: 0.3189 - val_accuracy: 0.8811\n",
            "Epoch 8/10\n",
            "14/14 [==============================] - 10s 753ms/step - loss: 0.3519 - accuracy: 0.8230 - val_loss: 0.8157 - val_accuracy: 0.5931\n",
            "Epoch 9/10\n",
            "14/14 [==============================] - 10s 756ms/step - loss: 0.3789 - accuracy: 0.8323 - val_loss: 0.3570 - val_accuracy: 0.8281\n",
            "Epoch 10/10\n",
            "14/14 [==============================] - 10s 754ms/step - loss: 0.3281 - accuracy: 0.8478 - val_loss: 0.3070 - val_accuracy: 0.8840\n"
          ]
        },
        {
          "output_type": "execute_result",
          "data": {
            "text/plain": [
              "<keras.callbacks.History at 0x7f10147e6210>"
            ]
          },
          "metadata": {},
          "execution_count": 33
        }
      ]
    },
    {
      "cell_type": "code",
      "source": [
        "modelA.evaluate(test_set2)"
      ],
      "metadata": {
        "colab": {
          "base_uri": "https://localhost:8080/"
        },
        "id": "7iESZ3eWbJwI",
        "outputId": "b7e98f3a-f755-42a4-d575-651477515750"
      },
      "execution_count": 35,
      "outputs": [
        {
          "output_type": "stream",
          "name": "stdout",
          "text": [
            "30/30 [==============================] - 6s 181ms/step - loss: 0.3070 - accuracy: 0.8840\n"
          ]
        },
        {
          "output_type": "execute_result",
          "data": {
            "text/plain": [
              "[0.30703556537628174, 0.8839541673660278]"
            ]
          },
          "metadata": {},
          "execution_count": 35
        }
      ]
    },
    {
      "cell_type": "code",
      "source": [
        "training_set2.class_indices"
      ],
      "metadata": {
        "colab": {
          "base_uri": "https://localhost:8080/"
        },
        "id": "DZfnqK03VyNQ",
        "outputId": "9e4abcb6-6814-4861-89a0-66f61e71fd0f"
      },
      "execution_count": 36,
      "outputs": [
        {
          "output_type": "execute_result",
          "data": {
            "text/plain": [
              "{'glass': 0, 'metal': 1}"
            ]
          },
          "metadata": {},
          "execution_count": 36
        }
      ]
    },
    {
      "cell_type": "markdown",
      "source": [
        " MODEL FOR WHITE PLASTIC OR METAL\n",
        "\n",
        "\n",
        "\n",
        "\n",
        "\n"
      ],
      "metadata": {
        "id": "tGEs3JFfIn4p"
      }
    },
    {
      "cell_type": "code",
      "source": [
        "\n",
        "modelB= Sequential() # instantiate new model object\n",
        "\n",
        "modelB.add(Conv2D(filters=2,  # specify number of filters. Higher number for more complex images.\n",
        "               kernel_size=3,  # size of filter - typically 3, as in 3x3\n",
        "               activation=\"relu\", # activation function, often 'relu' on layers before last\n",
        "               input_shape=[targetSize,targetSize,1])) # dimension of image, coming in from training set. \n",
        "               # here 28x28 pixel. '1' is number of color channels. B/W = 1, Color = 3.\n",
        "\n",
        "\n",
        "\n",
        "modelB.add(MaxPool2D(pool_size=2, strides=2)) \n",
        "\n",
        "\n",
        "modelB.add(Flatten())\n",
        "\n",
        "model.add(Dense(8,activation='relu'))\n",
        "model.add(Dense(7,activation='relu'))\n",
        "\n",
        "\n",
        "modelB.add(Dense(1, activation=\"sigmoid\")) # one single output neuron and sigmoid ac. func.\n",
        "\n",
        "adam = Adam(learning_rate=0.001)\n",
        "modelB.compile(optimizer=adam, loss = 'binary_crossentropy', metrics=['accuracy']) \n",
        "# here parameters are set to solve a two-class problem. Hence binary_crossentropy. "
      ],
      "metadata": {
        "id": "kdb-2yHZImwX"
      },
      "execution_count": 22,
      "outputs": []
    },
    {
      "cell_type": "code",
      "source": [
        "modelB.fit(x=training_set3, validation_data=test_set3, epochs=10)\n"
      ],
      "metadata": {
        "id": "l2y65cTvkCF1",
        "colab": {
          "base_uri": "https://localhost:8080/"
        },
        "outputId": "40526383-72d5-493f-d10d-8a14f928753d"
      },
      "execution_count": 23,
      "outputs": [
        {
          "output_type": "stream",
          "name": "stdout",
          "text": [
            "Epoch 1/10\n",
            "29/29 [==============================] - 7s 222ms/step - loss: 0.7031 - accuracy: 0.5249 - val_loss: 0.6821 - val_accuracy: 0.7050\n",
            "Epoch 2/10\n",
            "29/29 [==============================] - 6s 213ms/step - loss: 0.6669 - accuracy: 0.6552 - val_loss: 0.6027 - val_accuracy: 0.6513\n",
            "Epoch 3/10\n",
            "29/29 [==============================] - 6s 213ms/step - loss: 0.6135 - accuracy: 0.6705 - val_loss: 0.5773 - val_accuracy: 0.6782\n",
            "Epoch 4/10\n",
            "29/29 [==============================] - 6s 213ms/step - loss: 0.5803 - accuracy: 0.6935 - val_loss: 0.5438 - val_accuracy: 0.6858\n",
            "Epoch 5/10\n",
            "29/29 [==============================] - 6s 212ms/step - loss: 0.5520 - accuracy: 0.7203 - val_loss: 0.5543 - val_accuracy: 0.6743\n",
            "Epoch 6/10\n",
            "29/29 [==============================] - 6s 213ms/step - loss: 0.5563 - accuracy: 0.6897 - val_loss: 0.5205 - val_accuracy: 0.6973\n",
            "Epoch 7/10\n",
            "29/29 [==============================] - 6s 214ms/step - loss: 0.5214 - accuracy: 0.7395 - val_loss: 0.5361 - val_accuracy: 0.7433\n",
            "Epoch 8/10\n",
            "29/29 [==============================] - 6s 213ms/step - loss: 0.5365 - accuracy: 0.7050 - val_loss: 0.5148 - val_accuracy: 0.6897\n",
            "Epoch 9/10\n",
            "29/29 [==============================] - 6s 213ms/step - loss: 0.5286 - accuracy: 0.7165 - val_loss: 0.4816 - val_accuracy: 0.7050\n",
            "Epoch 10/10\n",
            "29/29 [==============================] - 6s 214ms/step - loss: 0.4855 - accuracy: 0.7548 - val_loss: 0.4253 - val_accuracy: 0.8812\n"
          ]
        },
        {
          "output_type": "execute_result",
          "data": {
            "text/plain": [
              "<keras.callbacks.History at 0x7f100fac5810>"
            ]
          },
          "metadata": {},
          "execution_count": 23
        }
      ]
    },
    {
      "cell_type": "code",
      "source": [
        "modelB.evaluate(test_set3)"
      ],
      "metadata": {
        "colab": {
          "base_uri": "https://localhost:8080/"
        },
        "id": "zX38sW6Nfv-H",
        "outputId": "77aa8fb8-7a65-4321-869c-188fff4783a3"
      },
      "execution_count": 24,
      "outputs": [
        {
          "output_type": "stream",
          "name": "stdout",
          "text": [
            "9/9 [==============================] - 2s 213ms/step - loss: 0.4253 - accuracy: 0.8812\n"
          ]
        },
        {
          "output_type": "execute_result",
          "data": {
            "text/plain": [
              "[0.4253184199333191, 0.8812260627746582]"
            ]
          },
          "metadata": {},
          "execution_count": 24
        }
      ]
    },
    {
      "cell_type": "code",
      "source": [
        "training_set3.class_indices"
      ],
      "metadata": {
        "colab": {
          "base_uri": "https://localhost:8080/"
        },
        "id": "aVZRtek5InGN",
        "outputId": "366213cb-d948-4ab3-cabf-f2ca8c983270"
      },
      "execution_count": 25,
      "outputs": [
        {
          "output_type": "execute_result",
          "data": {
            "text/plain": [
              "{'glass': 0, 'metal': 1}"
            ]
          },
          "metadata": {},
          "execution_count": 25
        }
      ]
    },
    {
      "cell_type": "code",
      "source": [
        "singleTestFile ='machine-learning-/solid_waste/predict/black/metal/1 (252).jpg'#predict a single new image.\n",
        "\n",
        "%pylab inline\n",
        "import matplotlib.pyplot as plt\n",
        "import matplotlib.image as mpimg\n",
        "img = mpimg.imread(singleTestFile)\n",
        "imgplot = plt.imshow(img)\n",
        "plt.show()"
      ],
      "metadata": {
        "colab": {
          "base_uri": "https://localhost:8080/",
          "height": 287
        },
        "id": "dspTPTvyt1U-",
        "outputId": "142caa5d-468b-4898-d621-7019ea3f8567"
      },
      "execution_count": 38,
      "outputs": [
        {
          "output_type": "stream",
          "name": "stdout",
          "text": [
            "Populating the interactive namespace from numpy and matplotlib\n"
          ]
        },
        {
          "output_type": "display_data",
          "data": {
            "text/plain": [
              "<Figure size 432x288 with 1 Axes>"
            ],
            "image/png": "[encoded data removed]"
          },
          "metadata": {
            "needs_background": "light"
          }
        }
      ]
    },
    {
      "cell_type": "code",
      "source": [
        "test_image = image.load_img(singleTestFile, target_size=[targetSize,targetSize], color_mode=color)\n",
        "# here set the SAME parameters as on the training in Step 4.\n",
        "test_image = image.img_to_array(test_image) # convert image to array\n",
        "test_image = np.expand_dims(test_image,axis=0) # add one extra dimension to hold batch column.\n",
        "# axis=0 means that the new dimension will be added on the row. Axis = 1 will add to the column.\n",
        "result = model.predict(test_image/255.0) # remember to divide each pixel value by 255.0\n",
        "result2 = modelA.predict(test_image/255.0) # remember to divide each pixel value by 255.0\n",
        "result3 = modelB.predict(test_image/255.0) # remember to divide each pixel value by 255.0\n",
        "\n",
        "\n",
        "print(\"result is: \" + str(result[0][0]))\n",
        "if result[0][0]>0.5:\n",
        "  print(\"WHITE\")  # depending on the value of training_set.class_indices\n",
        "  print(\"result for white background is: \" + str(result3[0][0]))\n",
        "  if result3[0][0]>0.5:\n",
        "      print(\"METAL\")  # depending on the value of training_set.class_indices\n",
        "\n",
        "  else:\n",
        "      print(\"GLASS\")\n",
        " \n",
        "\n",
        "else:\n",
        "  print(\"BLACK\")\n",
        "  print(\"result for black background is: \" + str(result2[0][0]))\n",
        "  if result2[0][0]>0.5:\n",
        "    print(\"METAL\")  # depending on the value of training_set.class_indices\n",
        "\n",
        "  else:\n",
        "    print(\"GLASS\")\n",
        "\n"
      ],
      "metadata": {
        "colab": {
          "base_uri": "https://localhost:8080/"
        },
        "id": "Ajyjnuwg4_55",
        "outputId": "b4548ad8-b439-4fe5-c6ee-bd8b7014ead0"
      },
      "execution_count": 40,
      "outputs": [
        {
          "output_type": "stream",
          "name": "stdout",
          "text": [
            "result is: 4.0757314e-07\n",
            "BLACK\n",
            "result for black background is: 0.99431705\n",
            "METAL\n"
          ]
        }
      ]
    }
  ]
}